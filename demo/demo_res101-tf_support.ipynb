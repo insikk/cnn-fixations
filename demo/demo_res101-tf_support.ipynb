{
 "cells": [
  {
   "cell_type": "markdown",
   "metadata": {},
   "source": [
    "# ResNet 101\n",
    "\n",
    "## Tensorflow ResNet_v1 from tf-slim\n"
   ]
  },
  {
   "cell_type": "code",
   "execution_count": null,
   "metadata": {},
   "outputs": [],
   "source": [
    "#importing the necessary dependencies\n",
    "%load_ext autoreload\n",
    "%autoreload 2\n",
    "\n",
    "\n",
    "from layers import Fixations\n",
    "try:\n",
    "    from urllib.request import urlretrieve\n",
    "except:\n",
    "    from urllib import urlretrieve\n",
    "    \n",
    "from utils import *\n",
    "from utils_resnet import *\n",
    "\n",
    "\n",
    "BACKEND = 'tf'\n",
    "if BACKEND=='tf':\n",
    "    from tf_helpers_slim_resnet import Net, Data\n",
    "else: \n",
    "    from caffe.proto import caffe_pb2\n",
    "    import caffe\n",
    "import os\n",
    "\n",
    "%matplotlib inline"
   ]
  },
  {
   "cell_type": "code",
   "execution_count": null,
   "metadata": {},
   "outputs": [],
   "source": [
    "#initializing the model\n",
    "\n",
    "if BACKEND == 'tf':    \n",
    "    checkpoint_path = os.path.join('../models', 'resnet_101', 'resnet_v1_101.ckpt')\n",
    "    net = Net(checkpoint_path)\n",
    "else:\n",
    "    #Specifying to use the GPU\n",
    "    caffe.set_mode_gpu()\n",
    "    caffe.set_device(0)\n",
    "\n",
    "    net = caffe.Classifier('../models/resnet_101/deploy.prototxt','../models/resnet_101/ResNet-101-model.caffemodel',channel_swap=(2,1,0))\n",
    "    \n",
    "layers = Fixations(net)"
   ]
  },
  {
   "cell_type": "code",
   "execution_count": null,
   "metadata": {},
   "outputs": [],
   "source": [
    "if BACKEND == 'tf':\n",
    "    def resnet(points, inc, resFac):\n",
    "        points = layers.fc(points=points, layer='fc1000', prevLayer='pool5')\n",
    "        points = layers.pool(points=points, prevLayer='res5c', K=7, S=1)\n",
    "        blob_list = ['pool1',\\\n",
    "                     '2a', '2b', '2c',\\\n",
    "                     '3a', '3b1', '3b2', '3b3',\\\n",
    "                     '4a', '4b1', '4b2', '4b3', '4b4', '4b5', '4b6', '4b7', '4b8', '4b9',\\\n",
    "                           '4b10', '4b11', '4b12', '4b13', '4b14', '4b15', '4b16', '4b17', '4b18', '4b19', '4b20',\\\n",
    "                           '4b21', '4b22',\\\n",
    "                     '5a', '5b', '5c']\n",
    "        for i in range(len(blob_list)-1,0,-1):\n",
    "                    points = layers.res(points, blob_list[i], blob_list[i-1])\n",
    "        points = layers.pool(points=points, prevLayer='conv1',K=3, S=2)\n",
    "        points = layers.conv(points=points,  layer='conv1', prevLayer='data', K=7, S=2, P=3)\n",
    "        points = layers.data(points=points, inc=inc, resFac=resFac)\n",
    "        return points\n",
    "else:    \n",
    "    def resnet(points, inc, resFac):\n",
    "        points = layers.fc(points=points, layer='fc1000', prevLayer='pool5')\n",
    "        points = layers.pool(points=points, prevLayer='res5c', K=7, S=1)\n",
    "        blob_list = ['pool1', '2a', '2b', '2c', '3a', '3b1', '3b2', '3b3', '4a', '4b1', '4b2', '4b3', '4b4', '4b5', '4b6', '4b7', '4b8', '4b9',\n",
    "             '4b10', '4b11', '4b12', '4b13', '4b14', '4b15', '4b16', '4b17', '4b18', '4b19', '4b20', '4b21', '4b22', '5a', '5b', '5c']\n",
    "        for i in range(len(blob_list)-1,0,-1):\n",
    "                    points = layers.res(points, blob_list[i], blob_list[i-1])\n",
    "        points = layers.pool(points=points, prevLayer='conv1',K=3, S=2)\n",
    "        points = layers.conv(points=points,  layer='conv1', prevLayer='data', K=7, S=2, P=3)\n",
    "        points = layers.data(points=points, inc=inc, resFac=resFac)\n",
    "        return points\n",
    "    "
   ]
  },
  {
   "cell_type": "code",
   "execution_count": null,
   "metadata": {},
   "outputs": [],
   "source": [
    "img_path = 'sample.jpg'\n",
    "# Prediction on ImageNet\n",
    "if BACKEND == 'tf':\n",
    "    points, image_label = pred(net, img_path, oversample=False)\n",
    "    print(\"points:\", points)\n",
    "    print(\"image_label:\", image_label)\n",
    "else:    \n",
    "    img, offset, resFac, newSize = imgPreprocess(img_path=img_path)\n",
    "    print(\"img:\", img.shape)\n",
    "    net.image_dims = newSize\n",
    "    points, image_label = pred(net, img)\n",
    "points = resnet(points, offset, resFac)\n",
    "visualize(img_path, points, diag_percent=0.1, image_label=image_label)"
   ]
  }
 ],
 "metadata": {
  "kernelspec": {
   "display_name": "tf1.4_cpu",
   "language": "python",
   "name": "tf1.4_cpu"
  },
  "language_info": {
   "codemirror_mode": {
    "name": "ipython",
    "version": 3
   },
   "file_extension": ".py",
   "mimetype": "text/x-python",
   "name": "python",
   "nbconvert_exporter": "python",
   "pygments_lexer": "ipython3",
   "version": "3.5.2"
  }
 },
 "nbformat": 4,
 "nbformat_minor": 1
}
