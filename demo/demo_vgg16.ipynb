{
 "cells": [
  {
   "cell_type": "code",
   "execution_count": null,
   "metadata": {},
   "outputs": [],
   "source": [
    "#importing the necessary dependencies\n",
    "import os\n",
    "from layers import Fixations\n",
    "try:\n",
    "    from urllib.request import urlretrieve\n",
    "except:\n",
    "    from urllib import urlretrieve\n",
    "from utils import *\n",
    "\n",
    "BACKEND = 'tf'\n",
    "if BACKEND=='tf':\n",
    "    from tf_helpers import Net, Data\n",
    "else: \n",
    "    from caffe.proto import caffe_pb2\n",
    "    import caffe\n",
    "\n",
    "%matplotlib inline"
   ]
  },
  {
   "cell_type": "code",
   "execution_count": null,
   "metadata": {},
   "outputs": [],
   "source": [
    "#initializing the model\n",
    "\n",
    "if BACKEND == 'tf':\n",
    "    model_path = os.path.join('../models', 'vgg_16', 'vgg16.ckpt.data-00000-of-00001')\n",
    "    index_path = os.path.join('../models', 'vgg_16', 'vgg16.ckpt.index')\n",
    "    graph_path = os.path.join('../models', 'vgg_16', 'vgg16.ckpt.meta')\n",
    "    checkpoint_path = os.path.join('../models', 'vgg_16', 'checkpoint')\n",
    "    if not os.path.isfile(model_path):\n",
    "    # currently downloading google drive files through urlretrieve does not work, please download them manually\n",
    "        print('Downloading VGG-16 weights...')\n",
    "        urlretrieve ('https://drive.google.com/file/d/0B7_JBKQvp2qbUXhpZWl6eTd4eEk/view?usp=sharing', model_path)\n",
    "        urlretrieve ('https://drive.google.com/file/d/0B7_JBKQvp2qbTU9JbW82OWJhMEk/view?usp=sharing', checkpoint_path)\n",
    "        urlretrieve ('https://drive.google.com/file/d/0B7_JBKQvp2qbS1JZMDdyNkNZODQ/view?usp=sharing', graph_path)\n",
    "        urlretrieve ('https://drive.google.com/file/d/0B7_JBKQvp2qbbFZ4SHprSGtESDA/view?usp=sharing', index_path)\n",
    "    \n",
    "    net = Net('../models/vgg_16/vgg16.ckpt.meta', '../models/vgg_16/vgg16.ckpt')\n",
    "        \n",
    "else:\n",
    "    # Specifying to use the GPU\n",
    "    caffe.set_mode_gpu()\n",
    "    caffe.set_device(0)\n",
    "\n",
    "    model_path = os.path.join('../models', 'vgg_16', 'VGG_ILSVRC_16_layers.caffemodel')\n",
    "    if not os.path.isfile(model_path):\n",
    "        print('Downloading VGG-16 weights...')\n",
    "        urlretrieve (\"http://www.robots.ox.ac.uk/~vgg/software/very_deep/caffe/VGG_ILSVRC_16_layers.caffemodel\", model_path)\n",
    "\n",
    "    net = caffe.Classifier('../models/vgg_16/deploy.prototxt', model_path, channel_swap=(2,1,0))\n",
    "\n",
    "layers = Fixations(net)"
   ]
  },
  {
   "cell_type": "code",
   "execution_count": null,
   "metadata": {},
   "outputs": [],
   "source": [
    "def vgg(points, inc, resFac):\n",
    "    if BACKEND == 'tf':\n",
    "        points = layers.fc(points=points, layer='fc3', prevLayer='fc2')\n",
    "        points = layers.fc(points=points, layer='fc2', prevLayer='fc1')\n",
    "        points = layers.fc(points=points, layer='fc1', prevLayer='pool4_1')\n",
    "    else:\n",
    "        points = layers.fc(points=points, layer='fc8', prevLayer='fc7')\n",
    "        points = layers.fc(points=points, layer='fc7', prevLayer='fc6')\n",
    "        points = layers.fc(points=points, layer='fc6', prevLayer='pool5')\n",
    "        \n",
    "    points = layers.pool(points=points, prevLayer='conv5_3', K=2, S=2)\n",
    "    points = layers.conv(points=points,  layer='conv5_3', prevLayer='conv5_2', K=3, S=1, P=1)\n",
    "    points = layers.conv(points=points,  layer='conv5_2', prevLayer='conv5_1', K=3, S=1, P=1)\n",
    "    points = layers.conv(points=points,  layer='conv5_1', prevLayer='pool4', K=3, S=1, P=1)\n",
    "    points = layers.pool(points=points, prevLayer='conv4_3', K=2, S=2)\n",
    "    points = layers.conv(points=points,  layer='conv4_3', prevLayer='conv4_2', K=3, S=1, P=1)\n",
    "    points = layers.conv(points=points,  layer='conv4_2', prevLayer='conv4_1', K=3, S=1, P=1)\n",
    "    points = layers.conv(points=points,  layer='conv4_1', prevLayer='pool3', K=3, S=1, P=1)\n",
    "    points = layers.pool(points=points, prevLayer='conv3_3', K=2, S=2)\n",
    "    points = layers.conv(points=points,  layer='conv3_3', prevLayer='conv3_2', K=3, S=1, P=1)\n",
    "    points = layers.conv(points=points,  layer='conv3_2', prevLayer='conv3_1', K=3, S=1, P=1)\n",
    "    points = layers.conv(points=points,  layer='conv3_1', prevLayer='pool2', K=3, S=1, P=1)\n",
    "    points = layers.pool(points=points, prevLayer='conv2_2', K=2, S=2)\n",
    "    points = layers.conv(points=points,  layer='conv2_2', prevLayer='conv2_1', K=3, S=1, P=1)\n",
    "    points = layers.conv(points=points,  layer='conv2_1', prevLayer='pool1', K=3, S=1, P=1)\n",
    "    points = layers.pool(points=points, prevLayer='conv1_2', K=2, S=2)\n",
    "    points = layers.data(points=points, inc=inc, resFac=resFac)\n",
    "    return points"
   ]
  },
  {
   "cell_type": "code",
   "execution_count": null,
   "metadata": {},
   "outputs": [],
   "source": [
    "img_path = 'sample.jpg'\n",
    "img, offset, resFac, newSize = imgPreprocess(img_path=img_path)\n",
    "net.image_dims = newSize\n",
    "points, image_label = pred(net, img)\n",
    "points = vgg(points, offset, resFac)\n",
    "visualize(img_path, points, diag_percent=0.5, image_label=image_label)"
   ]
  },
  {
   "cell_type": "code",
   "execution_count": null,
   "metadata": {},
   "outputs": [],
   "source": [
    "img_path = 'sample.jpg'\n",
    "img, offset, resFac, newSize = imgPreprocess(img_path=img_path)\n",
    "net.image_dims = newSize\n",
    "points, image_label = pred(net, img)\n",
    "points = vgg(points, offset, resFac)\n",
    "visualize(img_path, points, diag_percent=0.1, image_label=image_label)"
   ]
  },
  {
   "cell_type": "code",
   "execution_count": null,
   "metadata": {},
   "outputs": [],
   "source": [
    "img_path = 'sample.jpg'\n",
    "img, offset, resFac, newSize = imgPreprocess(img_path=img_path)\n",
    "net.image_dims = newSize\n",
    "points, image_label = pred(net, img)\n",
    "points = vgg(points, offset, resFac)\n",
    "visualize(img_path, points, diag_percent=0.01, image_label=image_label)"
   ]
  },
  {
   "cell_type": "code",
   "execution_count": null,
   "metadata": {},
   "outputs": [],
   "source": [
    "img_path = 'sample.jpg'\n",
    "img, offset, resFac, newSize = imgPreprocess(img_path=img_path)\n",
    "net.image_dims = newSize\n",
    "points, image_label = pred(net, img)\n",
    "points = vgg(points, offset, resFac)\n",
    "visualize(img_path, points, diag_percent=0.0, image_label=image_label)"
   ]
  }
 ],
 "metadata": {
  "kernelspec": {
   "display_name": "tf1.4_cpu",
   "language": "python",
   "name": "tf1.4_cpu"
  },
  "language_info": {
   "codemirror_mode": {
    "name": "ipython",
    "version": 3
   },
   "file_extension": ".py",
   "mimetype": "text/x-python",
   "name": "python",
   "nbconvert_exporter": "python",
   "pygments_lexer": "ipython3",
   "version": "3.5.2"
  }
 },
 "nbformat": 4,
 "nbformat_minor": 1
}
